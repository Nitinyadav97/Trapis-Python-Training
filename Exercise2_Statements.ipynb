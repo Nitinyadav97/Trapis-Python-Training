{
  "nbformat": 4,
  "nbformat_minor": 0,
  "metadata": {
    "kernelspec": {
      "display_name": "Python 3",
      "language": "python",
      "name": "python3"
    },
    "language_info": {
      "codemirror_mode": {
        "name": "ipython",
        "version": 3
      },
      "file_extension": ".py",
      "mimetype": "text/x-python",
      "name": "python",
      "nbconvert_exporter": "python",
      "pygments_lexer": "ipython3",
      "version": "3.7.4"
    },
    "colab": {
      "name": "Exerciese2-Statements.ipynb",
      "provenance": [],
      "include_colab_link": true
    }
  },
  "cells": [
    {
      "cell_type": "markdown",
      "metadata": {
        "id": "view-in-github",
        "colab_type": "text"
      },
      "source": [
        "<a href=\"https://colab.research.google.com/github/Nitinyadav97/Trapis-Python-Training-exercises/blob/main/Exercise2_Statements.ipynb\" target=\"_parent\"><img src=\"https://colab.research.google.com/assets/colab-badge.svg\" alt=\"Open In Colab\"/></a>"
      ]
    },
    {
      "cell_type": "markdown",
      "metadata": {
        "id": "T-GvgVbgkAPA"
      },
      "source": [
        "# Python Statements "
      ]
    },
    {
      "cell_type": "markdown",
      "metadata": {
        "id": "AQ395SbMkAPD"
      },
      "source": [
        "### Use for, .split() and if to create a statement that will print out the words that start with 's':"
      ]
    },
    {
      "cell_type": "code",
      "metadata": {
        "id": "CaEMmpQEkAPE"
      },
      "source": [
        "st = 'Print only the words that start with s in this sentence'"
      ],
      "execution_count": null,
      "outputs": []
    },
    {
      "cell_type": "code",
      "metadata": {
        "id": "T6JhpU9xkAPE",
        "colab": {
          "base_uri": "https://localhost:8080/"
        },
        "outputId": "64f04eb8-f73a-452f-ac77-8ea5688393c3"
      },
      "source": [
        "# Code Here\n",
        "st = 'Print only the words that start with s in this sentence'\n",
        "s=st.split()\n",
        "\n",
        "for i in s:\n",
        "  if i[0]=='s':\n",
        "    print(i)"
      ],
      "execution_count": null,
      "outputs": [
        {
          "output_type": "stream",
          "text": [
            "start\n",
            "s\n",
            "sentence\n"
          ],
          "name": "stdout"
        }
      ]
    },
    {
      "cell_type": "markdown",
      "metadata": {
        "id": "xih7xqDJkAPF"
      },
      "source": [
        "### Use range() to print out all even numbers from 0 to 50"
      ]
    },
    {
      "cell_type": "code",
      "metadata": {
        "id": "si2vm65SkAPG",
        "colab": {
          "base_uri": "https://localhost:8080/"
        },
        "outputId": "02b4c80a-9786-4a90-c2e0-459bd9bee06d"
      },
      "source": [
        "# Code Here\n",
        "\n",
        "for i in range(2,51,2):\n",
        "  print(i)"
      ],
      "execution_count": null,
      "outputs": [
        {
          "output_type": "stream",
          "text": [
            "2\n",
            "4\n",
            "6\n",
            "8\n",
            "10\n",
            "12\n",
            "14\n",
            "16\n",
            "18\n",
            "20\n",
            "22\n",
            "24\n",
            "26\n",
            "28\n",
            "30\n",
            "32\n",
            "34\n",
            "36\n",
            "38\n",
            "40\n",
            "42\n",
            "44\n",
            "46\n",
            "48\n",
            "50\n"
          ],
          "name": "stdout"
        }
      ]
    },
    {
      "cell_type": "markdown",
      "metadata": {
        "id": "5_sXM1qHkAPG"
      },
      "source": [
        "### Use a List Comprehension to create a list of all the numbers between 1 and 50 that are divisible by 3"
      ]
    },
    {
      "cell_type": "code",
      "metadata": {
        "id": "Vf_sxBbgkAPH",
        "colab": {
          "base_uri": "https://localhost:8080/"
        },
        "outputId": "2f632c24-a14c-4023-a239-9e76d383e0a1"
      },
      "source": [
        "# Code Here\n",
        "lst=[i for i in range(1,51) if i%3==0]\n",
        "print(lst)"
      ],
      "execution_count": null,
      "outputs": [
        {
          "output_type": "stream",
          "text": [
            "[3, 6, 9, 12, 15, 18, 21, 24, 27, 30, 33, 36, 39, 42, 45, 48]\n"
          ],
          "name": "stdout"
        }
      ]
    },
    {
      "cell_type": "markdown",
      "metadata": {
        "id": "PEXs48JhkAPI"
      },
      "source": [
        "### Go through the string below and if the length of a word is even print 'even!'"
      ]
    },
    {
      "cell_type": "code",
      "metadata": {
        "id": "2Qm9suBnkAPI"
      },
      "source": [
        "st = 'Print every word in this sentence that has an even number of letters'"
      ],
      "execution_count": null,
      "outputs": []
    },
    {
      "cell_type": "code",
      "metadata": {
        "id": "Gn-GczWckAPJ",
        "colab": {
          "base_uri": "https://localhost:8080/"
        },
        "outputId": "af6e6f82-b1c3-4914-a365-17c9b29a3cb3"
      },
      "source": [
        "# Code Here\n",
        "st = 'Print every word in this sentence that has an even number of letters'\n",
        "strng=st.split()\n",
        "for i in strng:\n",
        "  if len(i)%2==0:\n",
        "    print(i)"
      ],
      "execution_count": null,
      "outputs": [
        {
          "output_type": "stream",
          "text": [
            "word\n",
            "in\n",
            "this\n",
            "sentence\n",
            "that\n",
            "an\n",
            "even\n",
            "number\n",
            "of\n"
          ],
          "name": "stdout"
        }
      ]
    },
    {
      "cell_type": "markdown",
      "metadata": {
        "id": "y9AFx7MwkAPJ"
      },
      "source": [
        "### Write a program that prints the integers from 1 to 100. But for multiples of three print 'Fizz' instead of the number, and for the multiples of five print 'Buzz'. For numbers which are multiples of both three and five print 'FizzBuzz'."
      ]
    },
    {
      "cell_type": "code",
      "metadata": {
        "id": "w2O2X04QkAPK"
      },
      "source": [
        "# Code Here\n",
        "for i in range(1,101):\n",
        "  if(i%5==0 and i%3==0):\n",
        "    print(\"FizzBuzz\")\n",
        "  elif(i%5==0):\n",
        "    print(\"Buzz\")\n",
        "  elif(i%3==0):\n",
        "    print(\"Fizz\")\n",
        "  else:\n",
        "    print(i)\n"
      ],
      "execution_count": null,
      "outputs": []
    },
    {
      "cell_type": "markdown",
      "metadata": {
        "id": "eFJ6twCdkAPK"
      },
      "source": [
        "### Use List Comprehension to create a list of the first letters of every word in the string below:"
      ]
    },
    {
      "cell_type": "code",
      "metadata": {
        "id": "FbPI4vm-kAPL"
      },
      "source": [
        "st = 'Create a list of the first letters of every word in this string'"
      ],
      "execution_count": null,
      "outputs": []
    },
    {
      "cell_type": "code",
      "metadata": {
        "id": "olWr6kNqkAPL",
        "colab": {
          "base_uri": "https://localhost:8080/"
        },
        "outputId": "21350dba-438b-436f-a988-c34897308db2"
      },
      "source": [
        "# Code Here\n",
        "st = 'Create a list of the first letters of every word in this string'\n",
        "s=st.split()\n",
        "lst=[i[0] for i in s ]\n",
        "print(lst)"
      ],
      "execution_count": null,
      "outputs": [
        {
          "output_type": "stream",
          "text": [
            "['C', 'a', 'l', 'o', 't', 'f', 'l', 'o', 'e', 'w', 'i', 't', 's']\n"
          ],
          "name": "stdout"
        }
      ]
    },
    {
      "cell_type": "markdown",
      "metadata": {
        "id": "hcfAZD8fkAPL"
      },
      "source": [
        "## GREAT JOB!!"
      ]
    },
    {
      "cell_type": "code",
      "metadata": {
        "id": "yMjP5RRxkAPM"
      },
      "source": [
        ""
      ],
      "execution_count": null,
      "outputs": []
    }
  ]
}