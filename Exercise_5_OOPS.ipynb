{
  "nbformat": 4,
  "nbformat_minor": 0,
  "metadata": {
    "kernelspec": {
      "display_name": "Python 3",
      "language": "python",
      "name": "python3"
    },
    "language_info": {
      "codemirror_mode": {
        "name": "ipython",
        "version": 3
      },
      "file_extension": ".py",
      "mimetype": "text/x-python",
      "name": "python",
      "nbconvert_exporter": "python",
      "pygments_lexer": "ipython3",
      "version": "3.7.4"
    },
    "colab": {
      "name": "Exercise 5. OOPS.ipynb",
      "provenance": [],
      "include_colab_link": true
    }
  },
  "cells": [
    {
      "cell_type": "markdown",
      "metadata": {
        "id": "view-in-github",
        "colab_type": "text"
      },
      "source": [
        "<a href=\"https://colab.research.google.com/github/Nitinyadav97/Trapis-Python-Training-exercises/blob/main/Exercise_5_OOPS.ipynb\" target=\"_parent\"><img src=\"https://colab.research.google.com/assets/colab-badge.svg\" alt=\"Open In Colab\"/></a>"
      ]
    },
    {
      "cell_type": "markdown",
      "metadata": {
        "id": "A6sVyRJh1KW6"
      },
      "source": [
        "# Object Oriented Programming"
      ]
    },
    {
      "cell_type": "markdown",
      "metadata": {
        "id": "-lorR2Ue1KXC"
      },
      "source": [
        "# Fill in the Line class methods to accept coordinates as a pair of tuples and return the slope and distance of the line."
      ]
    },
    {
      "cell_type": "code",
      "metadata": {
        "id": "xJsnTFtA1KXE"
      },
      "source": [
        "class Line:\n",
        "    \n",
        "    def __init__(self,coor1,coor2):\n",
        "        self.c1=coor1\n",
        "        self.c2=coor2\n",
        "        \n",
        "     \n",
        "    def distance(self):\n",
        "        return((   ((self.c1[0]-self.c2[0])**2)  +  ((self.c1[1]-self.c2[1])**2)  )**(.5))\n",
        "        \n",
        "    \n",
        "    def slope(self):\n",
        "        return((self.c2[1]-self.c1[1])/(self.c2[0]-self.c1[0]))"
      ],
      "execution_count": 18,
      "outputs": []
    },
    {
      "cell_type": "code",
      "metadata": {
        "id": "3Lqk0YG91KXG"
      },
      "source": [
        "# EXAMPLE OUTPUT\n",
        "\n",
        "coordinate1 = (3,2)\n",
        "coordinate2 = (8,10)\n",
        "\n",
        "li = Line(coordinate1,coordinate2)\n"
      ],
      "execution_count": 19,
      "outputs": []
    },
    {
      "cell_type": "code",
      "metadata": {
        "id": "ku0rKl7m1KXI",
        "colab": {
          "base_uri": "https://localhost:8080/"
        },
        "outputId": "a0580d27-a27f-4f88-b8b8-66550352ff7d"
      },
      "source": [
        "li.distance()"
      ],
      "execution_count": 14,
      "outputs": [
        {
          "output_type": "stream",
          "text": [
            "9.433981132056603\n"
          ],
          "name": "stdout"
        }
      ]
    },
    {
      "cell_type": "code",
      "metadata": {
        "id": "7-LhCFIs1KXJ",
        "colab": {
          "base_uri": "https://localhost:8080/"
        },
        "outputId": "ed298327-5276-4220-e910-7376a1047b36"
      },
      "source": [
        "li.slope()"
      ],
      "execution_count": 20,
      "outputs": [
        {
          "output_type": "execute_result",
          "data": {
            "text/plain": [
              "1.6"
            ]
          },
          "metadata": {
            "tags": []
          },
          "execution_count": 20
        }
      ]
    },
    {
      "cell_type": "markdown",
      "metadata": {
        "id": "eRAfKnc41KXK"
      },
      "source": [
        "### Fill in the class"
      ]
    },
    {
      "cell_type": "code",
      "metadata": {
        "id": "Z9mV-JhQ1KXL"
      },
      "source": [
        "class Cylinder:\n",
        "    \n",
        "    def __init__(self,height=1,radius=1):\n",
        "        self.h=height\n",
        "        self.r=radius\n",
        "        self.pi=3.14\n",
        "        \n",
        "    def volume(self):\n",
        "        return(self.pi*self.r*self.r*self.h)\n",
        "    \n",
        "    def surface_area(self):\n",
        "       return(2*self.pi*(self.r*self.r+self.r+self.h))"
      ],
      "execution_count": 30,
      "outputs": []
    },
    {
      "cell_type": "code",
      "metadata": {
        "id": "gVcxoaxt1KXN"
      },
      "source": [
        "# EXAMPLE OUTPUT\n",
        "c = Cylinder(2,3)"
      ],
      "execution_count": 31,
      "outputs": []
    },
    {
      "cell_type": "code",
      "metadata": {
        "id": "wBWKLvwm1KXO",
        "colab": {
          "base_uri": "https://localhost:8080/"
        },
        "outputId": "7a5cf98c-a74b-4794-a874-3cfd93950f94"
      },
      "source": [
        "c.volume()"
      ],
      "execution_count": 29,
      "outputs": [
        {
          "output_type": "execute_result",
          "data": {
            "text/plain": [
              "56.519999999999996"
            ]
          },
          "metadata": {
            "tags": []
          },
          "execution_count": 29
        }
      ]
    },
    {
      "cell_type": "code",
      "metadata": {
        "id": "k-4TShSe1KXP",
        "colab": {
          "base_uri": "https://localhost:8080/"
        },
        "outputId": "fd943398-8f6e-4e42-94fb-d882b5324a10"
      },
      "source": [
        "c.surface_area()"
      ],
      "execution_count": 32,
      "outputs": [
        {
          "output_type": "execute_result",
          "data": {
            "text/plain": [
              "87.92"
            ]
          },
          "metadata": {
            "tags": []
          },
          "execution_count": 32
        }
      ]
    },
    {
      "cell_type": "markdown",
      "metadata": {
        "id": "VOFF0NBB1KXQ"
      },
      "source": [
        "## Challenge Problem"
      ]
    },
    {
      "cell_type": "markdown",
      "metadata": {
        "id": "UJp8bGNP1KXR"
      },
      "source": [
        "For this challenge, create a bank account class that has two attributes:\n",
        "\n",
        "- owner\n",
        "- balance\n",
        "\n",
        "and two methods:\n",
        "\n",
        "- deposit\n",
        "- withdraw\n",
        "\n",
        "As an added requirement, withdrawals may not exceed the available balance.\n",
        "\n",
        "Instantiate your class, make several deposits and withdrawals, and test to make sure the account can't be overdrawn."
      ]
    },
    {
      "cell_type": "code",
      "metadata": {
        "id": "04jSLr641KXT"
      },
      "source": [
        "class Account:\n",
        "    def __init__(s,owner,balance=0):\n",
        "      s.o=owner\n",
        "      s.b=balance\n",
        "\n",
        "    def __str__(s):\n",
        "       return(\"Account owner:{}\\nAccount balance:{}\".format(s.o,s.b))\n",
        "\n",
        "    def deposit(s,d):\n",
        "\n",
        "      s.b=s.b+d\n",
        "      return(\"Deposit accepted\")\n",
        "\n",
        "    def withdraw(s,w):\n",
        "      if(w>s.b):\n",
        "         print(\"Funds Unavailable\")\n",
        "      else:\n",
        "        s.b=s.b-w\n",
        "        print(\"Withdrawal accepted\") \n"
      ],
      "execution_count": 59,
      "outputs": []
    },
    {
      "cell_type": "code",
      "metadata": {
        "id": "F0_bejIH1KXU"
      },
      "source": [
        "# 1. Instantiate the class\n",
        "acct1 = Account('Jose',100)"
      ],
      "execution_count": 60,
      "outputs": []
    },
    {
      "cell_type": "code",
      "metadata": {
        "id": "ZiTG-kde1KXV",
        "colab": {
          "base_uri": "https://localhost:8080/"
        },
        "outputId": "1b3d8e7b-9029-40a9-e563-6d024fa2c7dc"
      },
      "source": [
        "# 2. Print the object\n",
        "print(acct1)\n",
        "\n",
        "# Output- Account owner:   Jose\n",
        "#         Account balance: $100"
      ],
      "execution_count": 61,
      "outputs": [
        {
          "output_type": "stream",
          "text": [
            "Account owner:Jose\n",
            "Account balance:100\n"
          ],
          "name": "stdout"
        }
      ]
    },
    {
      "cell_type": "code",
      "metadata": {
        "id": "MbQXJ8DL1KXW",
        "colab": {
          "base_uri": "https://localhost:8080/",
          "height": 35
        },
        "outputId": "ffa3106f-f704-46af-cc0b-12c408423578"
      },
      "source": [
        "# 3. Show the account owner attribute\n",
        "acct1.o"
      ],
      "execution_count": 62,
      "outputs": [
        {
          "output_type": "execute_result",
          "data": {
            "application/vnd.google.colaboratory.intrinsic+json": {
              "type": "string"
            },
            "text/plain": [
              "'Jose'"
            ]
          },
          "metadata": {
            "tags": []
          },
          "execution_count": 62
        }
      ]
    },
    {
      "cell_type": "code",
      "metadata": {
        "id": "MJyUhlVt1KXX",
        "colab": {
          "base_uri": "https://localhost:8080/"
        },
        "outputId": "8b9c1be5-ed77-4a97-f412-e2f8c025d2fb"
      },
      "source": [
        "# 4. Show the account balance attribute\n",
        "acct1.b"
      ],
      "execution_count": 63,
      "outputs": [
        {
          "output_type": "execute_result",
          "data": {
            "text/plain": [
              "100"
            ]
          },
          "metadata": {
            "tags": []
          },
          "execution_count": 63
        }
      ]
    },
    {
      "cell_type": "code",
      "metadata": {
        "id": "35Wudch81KXX",
        "colab": {
          "base_uri": "https://localhost:8080/",
          "height": 35
        },
        "outputId": "96d72d44-1331-49d5-ad1a-878f6162e8b7"
      },
      "source": [
        "# 5. Make a series of deposits and withdrawals\n",
        "acct1.deposit(50)\n",
        "\n",
        "#Output - Deposit accepted"
      ],
      "execution_count": 64,
      "outputs": [
        {
          "output_type": "execute_result",
          "data": {
            "application/vnd.google.colaboratory.intrinsic+json": {
              "type": "string"
            },
            "text/plain": [
              "'Deposit accepted'"
            ]
          },
          "metadata": {
            "tags": []
          },
          "execution_count": 64
        }
      ]
    },
    {
      "cell_type": "code",
      "metadata": {
        "id": "EGo68RvO1KXY",
        "colab": {
          "base_uri": "https://localhost:8080/"
        },
        "outputId": "6bb90bc3-547b-4de7-ca07-39cfc4dfab43"
      },
      "source": [
        "acct1.withdraw(75)\n",
        "\n",
        "#Output - Withdrawal accepted"
      ],
      "execution_count": 65,
      "outputs": [
        {
          "output_type": "stream",
          "text": [
            "Withdrawal accepted\n"
          ],
          "name": "stdout"
        }
      ]
    },
    {
      "cell_type": "code",
      "metadata": {
        "id": "tPOWRsM41KXZ",
        "colab": {
          "base_uri": "https://localhost:8080/"
        },
        "outputId": "24927e0b-6aad-4deb-99b8-88e57db27cc0"
      },
      "source": [
        "# 6. Make a withdrawal that exceeds the available balance\n",
        "acct1.withdraw(500)\n",
        "\n",
        "#Output - Funds Unavailable"
      ],
      "execution_count": 66,
      "outputs": [
        {
          "output_type": "stream",
          "text": [
            "Funds Unavailable\n"
          ],
          "name": "stdout"
        }
      ]
    },
    {
      "cell_type": "markdown",
      "metadata": {
        "id": "5CtIfWuc1KXa"
      },
      "source": [
        "## GOOD JOB!!"
      ]
    },
    {
      "cell_type": "code",
      "metadata": {
        "id": "569OSAH31KXa"
      },
      "source": [
        ""
      ],
      "execution_count": null,
      "outputs": []
    }
  ]
}