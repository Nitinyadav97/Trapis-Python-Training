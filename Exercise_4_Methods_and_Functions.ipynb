{
  "nbformat": 4,
  "nbformat_minor": 0,
  "metadata": {
    "kernelspec": {
      "display_name": "Python 3",
      "language": "python",
      "name": "python3"
    },
    "language_info": {
      "codemirror_mode": {
        "name": "ipython",
        "version": 3
      },
      "file_extension": ".py",
      "mimetype": "text/x-python",
      "name": "python",
      "nbconvert_exporter": "python",
      "pygments_lexer": "ipython3",
      "version": "3.7.4"
    },
    "colab": {
      "name": "Exercise 4. Methods and Functions.ipynb",
      "provenance": [],
      "collapsed_sections": [],
      "include_colab_link": true
    }
  },
  "cells": [
    {
      "cell_type": "markdown",
      "metadata": {
        "id": "view-in-github",
        "colab_type": "text"
      },
      "source": [
        "<a href=\"https://colab.research.google.com/github/Nitinyadav97/Trapis-Python-Training-exercises/blob/main/Exercise_4_Methods_and_Functions.ipynb\" target=\"_parent\"><img src=\"https://colab.research.google.com/assets/colab-badge.svg\" alt=\"Open In Colab\"/></a>"
      ]
    },
    {
      "cell_type": "markdown",
      "metadata": {
        "id": "FTIWP2334Qn3"
      },
      "source": [
        "# Methods and Functions"
      ]
    },
    {
      "cell_type": "markdown",
      "metadata": {
        "id": "pMGpIhxV4Qn6"
      },
      "source": [
        "### Write a function that computes the volume of a sphere given its radius"
      ]
    },
    {
      "cell_type": "code",
      "metadata": {
        "id": "gqLTFBZr4Qn7",
        "colab": {
          "base_uri": "https://localhost:8080/"
        },
        "outputId": "39603b3a-432b-4e8f-e2ac-0b7dad2174b4"
      },
      "source": [
        "def vol(radius):\n",
        "  print(radius*radius*radius*4.186)\n",
        "\n",
        "vol(3)"
      ],
      "execution_count": null,
      "outputs": [
        {
          "output_type": "stream",
          "text": [
            "113.02199999999999\n"
          ],
          "name": "stdout"
        }
      ]
    },
    {
      "cell_type": "markdown",
      "metadata": {
        "id": "0C4lB1UY4Qn8"
      },
      "source": [
        "### Write a function that checks whether a number is in a given range (Inclusive of high and low)"
      ]
    },
    {
      "cell_type": "code",
      "metadata": {
        "id": "hiNiwlSZ4Qn8",
        "colab": {
          "base_uri": "https://localhost:8080/"
        },
        "outputId": "9972d3b2-3249-42c7-d4d0-d993ad0d727b"
      },
      "source": [
        "def ran_check(num,low,high):\n",
        "    if num in range(low,high+1):print(\"yes it is within given range\")\n",
        "    else:print(\"No it is not within given range\")\n",
        "\n",
        "ran_check(8,1,7)"
      ],
      "execution_count": null,
      "outputs": [
        {
          "output_type": "stream",
          "text": [
            "No it is not within given range\n"
          ],
          "name": "stdout"
        }
      ]
    },
    {
      "cell_type": "markdown",
      "metadata": {
        "id": "KhBIAT3S4Qn9"
      },
      "source": [
        "If you only wanted to return a boolean:"
      ]
    },
    {
      "cell_type": "code",
      "metadata": {
        "id": "7Qr-y4re4Qn9",
        "colab": {
          "base_uri": "https://localhost:8080/"
        },
        "outputId": "fc4f9024-77ed-4196-df9d-b48f2f788eb3"
      },
      "source": [
        "def ran_bool(num,low,high):\n",
        "   if num in range(low,high+1):return (True)\n",
        "   else: return (False)\n",
        "ran_bool(8,1,7)    "
      ],
      "execution_count": null,
      "outputs": [
        {
          "output_type": "execute_result",
          "data": {
            "text/plain": [
              "False"
            ]
          },
          "metadata": {
            "tags": []
          },
          "execution_count": 14
        }
      ]
    },
    {
      "cell_type": "markdown",
      "metadata": {
        "id": "4kD91R0m4Qn9"
      },
      "source": [
        "### Write a Python function that accepts a string and calculates the number of upper case letters and lower case letters.\n",
        "\n",
        "- Sample String : 'Hello Mr. Rogers, how are you this fine Tuesday?'\n",
        "#### Expected Output : \n",
        "- No. of Upper case characters : 4\n",
        "- No. of Lower case Characters : 33\n",
        "\n",
        "HINT: Two string methods that might prove useful: .isupper() and .islower()"
      ]
    },
    {
      "cell_type": "code",
      "metadata": {
        "id": "Q91FE3WB4Qn-"
      },
      "source": [
        "def up_low(s):\n",
        "    u=0\n",
        "    l=0\n",
        "    for i in s:\n",
        "      if i.isupper()==True:u=u+1\n",
        "      elif i.islower()==True:l=l+1\n",
        "    print(\"No. of Upper case characters : \",u)\n",
        "    print(\"No. of Lower case characters : \",l)"
      ],
      "execution_count": null,
      "outputs": []
    },
    {
      "cell_type": "code",
      "metadata": {
        "id": "Hrk1tzbv4Qn_",
        "colab": {
          "base_uri": "https://localhost:8080/"
        },
        "outputId": "6d1b3d36-ab01-49d9-86d0-6e5ca78c9a14"
      },
      "source": [
        "s = 'Hello Mr. Rogers, how are you this fine Tuesday?'\n",
        "up_low(s)"
      ],
      "execution_count": null,
      "outputs": [
        {
          "output_type": "stream",
          "text": [
            "No. of Upper case characters :  4\n",
            "No. of Lower case characters :  33\n"
          ],
          "name": "stdout"
        }
      ]
    },
    {
      "cell_type": "markdown",
      "metadata": {
        "id": "6CMYfv8o4Qn_"
      },
      "source": [
        "### Write a Python function that takes a list and returns a new list with unique elements of the first list.\n",
        "\n",
        "- Sample List : [1,1,1,1,2,2,3,3,3,3,4,5]\n",
        "- Unique List : [1, 2, 3, 4, 5]"
      ]
    },
    {
      "cell_type": "code",
      "metadata": {
        "id": "V7WzJNZd4Qn_"
      },
      "source": [
        "def unique_list(lst):\n",
        "    set_lst=list(set(lst))\n",
        "    print(\"Unique List:\",set_lst)"
      ],
      "execution_count": null,
      "outputs": []
    },
    {
      "cell_type": "code",
      "metadata": {
        "id": "6i30lO-F4QoA",
        "colab": {
          "base_uri": "https://localhost:8080/"
        },
        "outputId": "8340b03c-d4d4-4b89-e383-359c549705a8"
      },
      "source": [
        "unique_list([1,1,1,1,2,2,3,3,3,3,4,5])"
      ],
      "execution_count": null,
      "outputs": [
        {
          "output_type": "stream",
          "text": [
            "[1, 2, 3, 4, 5]\n"
          ],
          "name": "stdout"
        }
      ]
    },
    {
      "cell_type": "markdown",
      "metadata": {
        "id": "40G3huoo4QoA"
      },
      "source": [
        "### Write a Python function to multiply all the numbers in a list.\n",
        "\n",
        "- Sample List : [1, 2, 3, -4]\n",
        "- Expected Output : -24"
      ]
    },
    {
      "cell_type": "code",
      "metadata": {
        "id": "1_w2asUW4QoB"
      },
      "source": [
        "def multiply(numbers):\n",
        "    p=1  \n",
        "    for i in numbers:\n",
        "      p=p*i\n",
        "    print(p)"
      ],
      "execution_count": null,
      "outputs": []
    },
    {
      "cell_type": "code",
      "metadata": {
        "id": "fF1vpwef4QoB",
        "colab": {
          "base_uri": "https://localhost:8080/"
        },
        "outputId": "f398faad-13e5-48db-beb1-86f06212f8aa"
      },
      "source": [
        "multiply([1,2,3,-4])"
      ],
      "execution_count": null,
      "outputs": [
        {
          "output_type": "stream",
          "text": [
            "-24\n"
          ],
          "name": "stdout"
        }
      ]
    },
    {
      "cell_type": "markdown",
      "metadata": {
        "id": "6_zRD_ZX4QoB"
      },
      "source": [
        "### Write a Python function that checks whether a word or phrase is palindrome or not."
      ]
    },
    {
      "cell_type": "code",
      "metadata": {
        "id": "m6oToOJC4QoC"
      },
      "source": [
        "def palindrome(s):\n",
        "    if s==s[::-1]: print(\"Yes it is palindrome\")\n",
        "    else: print(\"No it is not palindrome\")"
      ],
      "execution_count": null,
      "outputs": []
    },
    {
      "cell_type": "code",
      "metadata": {
        "id": "wDQrcprG4QoC",
        "colab": {
          "base_uri": "https://localhost:8080/"
        },
        "outputId": "26e0d490-e56a-47a1-ec45-6404a2c0a4bf"
      },
      "source": [
        "palindrome('helleh')"
      ],
      "execution_count": null,
      "outputs": [
        {
          "output_type": "stream",
          "text": [
            "Yes it is palindrome\n"
          ],
          "name": "stdout"
        }
      ]
    },
    {
      "cell_type": "markdown",
      "metadata": {
        "id": "_UuDAQg84QoC"
      },
      "source": [
        "## GOOD JOB!"
      ]
    },
    {
      "cell_type": "code",
      "metadata": {
        "id": "HnlFgvBQ4QoD"
      },
      "source": [
        ""
      ],
      "execution_count": null,
      "outputs": []
    }
  ]
}