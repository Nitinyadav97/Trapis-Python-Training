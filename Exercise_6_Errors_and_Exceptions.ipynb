{
  "nbformat": 4,
  "nbformat_minor": 0,
  "metadata": {
    "kernelspec": {
      "display_name": "Python 3",
      "language": "python",
      "name": "python3"
    },
    "language_info": {
      "codemirror_mode": {
        "name": "ipython",
        "version": 3
      },
      "file_extension": ".py",
      "mimetype": "text/x-python",
      "name": "python",
      "nbconvert_exporter": "python",
      "pygments_lexer": "ipython3",
      "version": "3.7.4"
    },
    "colab": {
      "name": "Exercise 6. Errors and Exceptions.ipynb",
      "provenance": [],
      "include_colab_link": true
    }
  },
  "cells": [
    {
      "cell_type": "markdown",
      "metadata": {
        "id": "view-in-github",
        "colab_type": "text"
      },
      "source": [
        "<a href=\"https://colab.research.google.com/github/Nitinyadav97/Trapis-Python-Training-exercises/blob/main/Exercise_6_Errors_and_Exceptions.ipynb\" target=\"_parent\"><img src=\"https://colab.research.google.com/assets/colab-badge.svg\" alt=\"Open In Colab\"/></a>"
      ]
    },
    {
      "cell_type": "markdown",
      "metadata": {
        "id": "aml2J1kYj_X6"
      },
      "source": [
        "# Errors and Exceptions"
      ]
    },
    {
      "cell_type": "markdown",
      "metadata": {
        "id": "194UVoztj_X_"
      },
      "source": [
        "### Handle the exception thrown by the code below by using try and except blocks."
      ]
    },
    {
      "cell_type": "code",
      "metadata": {
        "id": "OqKjs_2oj_YA",
        "colab": {
          "base_uri": "https://localhost:8080/"
        },
        "outputId": "205d8d71-0e0e-458e-d71d-ffbd288166ef"
      },
      "source": [
        "try:\n",
        "  for i in ['a','b','c']:\n",
        "    print(i**2)\n",
        "except:\n",
        "  print(\"Error occured\")"
      ],
      "execution_count": null,
      "outputs": [
        {
          "output_type": "stream",
          "text": [
            "Error occured\n"
          ],
          "name": "stdout"
        }
      ]
    },
    {
      "cell_type": "markdown",
      "metadata": {
        "id": "DXRLx9jKj_YD"
      },
      "source": [
        "### Handle the exception thrown by the code below by using try and except blocks. Then use a finally block to print 'All Done.'"
      ]
    },
    {
      "cell_type": "code",
      "metadata": {
        "id": "OnqRGcYgj_YE",
        "colab": {
          "base_uri": "https://localhost:8080/"
        },
        "outputId": "2b934417-30c7-46a4-9334-18504c7ec23a"
      },
      "source": [
        "x = 5\n",
        "y = 0\n",
        "\n",
        "try:\n",
        "  z = x/y\n",
        "\n",
        "except ZeroDivisionError:\n",
        "  print(\"Can't divide by zero \")\n",
        "\n",
        "finally:\n",
        "  print(\"All Done\")"
      ],
      "execution_count": null,
      "outputs": [
        {
          "output_type": "stream",
          "text": [
            "Can't divide by zero \n",
            "All Done\n"
          ],
          "name": "stdout"
        }
      ]
    },
    {
      "cell_type": "markdown",
      "metadata": {
        "id": "dTRnIIJBj_YF"
      },
      "source": [
        "### Write a function that asks for an integer and prints the square of it. Use a while loop with a try, except, else block to account for incorrect inputs."
      ]
    },
    {
      "cell_type": "code",
      "metadata": {
        "id": "mWH0zfpej_YF"
      },
      "source": [
        "def ask():\n",
        "\n",
        "  while(True):\n",
        "\n",
        "    try:\n",
        "      a=int(input(\"Enter the integer\"))\n",
        "\n",
        "    except:\n",
        "      \n",
        "      print(\"An error occurred! Please try again!\")\n",
        "      continue\n",
        "    else:\n",
        "      print(\"Thank you, your number squared is:\",a**2)\n",
        "      break"
      ],
      "execution_count": null,
      "outputs": []
    },
    {
      "cell_type": "code",
      "metadata": {
        "id": "5gc8-LYzj_YG",
        "colab": {
          "base_uri": "https://localhost:8080/"
        },
        "outputId": "81e0040f-0dd6-4292-dcd9-441eb7454513"
      },
      "source": [
        "ask()"
      ],
      "execution_count": null,
      "outputs": [
        {
          "output_type": "stream",
          "text": [
            "An error occurred! Please try again!\n",
            "An error occurred! Please try again!\n",
            "Thank you, your number squared is: 9\n",
            "An error occurred! Please try again!\n",
            "An error occurred! Please try again!\n",
            "Enter the integer2\n",
            "Thank you, your number squared is: 4\n"
          ],
          "name": "stdout"
        }
      ]
    },
    {
      "cell_type": "markdown",
      "metadata": {
        "id": "IyNEdYKbj_YH"
      },
      "source": [
        "    Output:\n",
        "    Input an integer: null\n",
        "    An error occurred! Please try again!\n",
        "    Input an integer: 2\n",
        "    Thank you, your number squared is:  4"
      ]
    },
    {
      "cell_type": "markdown",
      "metadata": {
        "id": "JSDG_z0Ij_YI"
      },
      "source": [
        "## GOOD JOB!"
      ]
    },
    {
      "cell_type": "code",
      "metadata": {
        "id": "aIKk2BeTj_YJ"
      },
      "source": [
        ""
      ],
      "execution_count": null,
      "outputs": []
    }
  ]
}