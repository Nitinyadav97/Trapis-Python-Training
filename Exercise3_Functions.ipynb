{
  "nbformat": 4,
  "nbformat_minor": 0,
  "metadata": {
    "kernelspec": {
      "display_name": "Python 3",
      "language": "python",
      "name": "python3"
    },
    "language_info": {
      "codemirror_mode": {
        "name": "ipython",
        "version": 3
      },
      "file_extension": ".py",
      "mimetype": "text/x-python",
      "name": "python",
      "nbconvert_exporter": "python",
      "pygments_lexer": "ipython3",
      "version": "3.7.4"
    },
    "colab": {
      "name": "Copy of 3. Functions.ipynb",
      "provenance": [],
      "include_colab_link": true
    }
  },
  "cells": [
    {
      "cell_type": "markdown",
      "metadata": {
        "id": "view-in-github",
        "colab_type": "text"
      },
      "source": [
        "<a href=\"https://colab.research.google.com/github/Nitinyadav97/Trapis-Python-Training-exercises/blob/main/Exercise3_Functions.ipynb\" target=\"_parent\"><img src=\"https://colab.research.google.com/assets/colab-badge.svg\" alt=\"Open In Colab\"/></a>"
      ]
    },
    {
      "cell_type": "markdown",
      "metadata": {
        "id": "MJYGOYMT1Kwy"
      },
      "source": [
        "# Function Practice Exercises"
      ]
    },
    {
      "cell_type": "markdown",
      "metadata": {
        "id": "xDzlRtxB1Kw1"
      },
      "source": [
        "### LESSER OF TWO EVENS: Write a function that returns the lesser of two given numbers if both numbers are even, but returns the greater if one or both numbers are odd "
      ]
    },
    {
      "cell_type": "markdown",
      "metadata": {
        "id": "DZaGZb881Kw2"
      },
      "source": [
        " - lesser_of_two_evens(2,4) --> 2\n",
        " - lesser_of_two_evens(2,5) --> 5"
      ]
    },
    {
      "cell_type": "code",
      "metadata": {
        "id": "XTEbUVkl1Kw2"
      },
      "source": [
        "def lesser_of_two_evens(a,b):\n",
        "    if a%2==0 and b%2==0:\n",
        "      print (a) if a<b else print(b)\n",
        "    else:\n",
        "      print (a) if a>b else print(b)"
      ],
      "execution_count": null,
      "outputs": []
    },
    {
      "cell_type": "code",
      "metadata": {
        "id": "XYqG8Cx31Kw3",
        "colab": {
          "base_uri": "https://localhost:8080/"
        },
        "outputId": "7dce4a73-5c63-4d35-f6a2-fc865c6207c3"
      },
      "source": [
        "# Check\n",
        "lesser_of_two_evens(2,4)"
      ],
      "execution_count": null,
      "outputs": [
        {
          "output_type": "stream",
          "text": [
            "2\n"
          ],
          "name": "stdout"
        }
      ]
    },
    {
      "cell_type": "code",
      "metadata": {
        "id": "ZeJ8CKFi1Kw4",
        "colab": {
          "base_uri": "https://localhost:8080/"
        },
        "outputId": "c29ef1b6-aa2e-4cc1-844f-ba876a335224"
      },
      "source": [
        "# Check\n",
        "lesser_of_two_evens(2,5)"
      ],
      "execution_count": null,
      "outputs": [
        {
          "output_type": "stream",
          "text": [
            "5\n"
          ],
          "name": "stdout"
        }
      ]
    },
    {
      "cell_type": "markdown",
      "metadata": {
        "id": "_g05NU6p1Kw4"
      },
      "source": [
        "### ANIMAL CRACKERS: Write a function that takes a two-word string and returns True if both words begin with same letter\n",
        "\n",
        "- animal_crackers('Levelheaded Llama') --> True\n",
        "- animal_crackers('Crazy Kangaroo') --> False"
      ]
    },
    {
      "cell_type": "code",
      "metadata": {
        "id": "jNrez1mQ1Kw5"
      },
      "source": [
        "def animal_crackers(text):\n",
        "    lst=text.split()\n",
        "    if lst[0][0]==lst[1][0]:\n",
        "      return True\n",
        "    else :\n",
        "      return False"
      ],
      "execution_count": null,
      "outputs": []
    },
    {
      "cell_type": "code",
      "metadata": {
        "id": "mpMe6e3j1Kw6",
        "colab": {
          "base_uri": "https://localhost:8080/"
        },
        "outputId": "ee2a15d7-be23-461f-c4b7-22028f07a5ea"
      },
      "source": [
        "# Check\n",
        "animal_crackers('Levelheaded Llama')"
      ],
      "execution_count": null,
      "outputs": [
        {
          "output_type": "execute_result",
          "data": {
            "text/plain": [
              "True"
            ]
          },
          "metadata": {
            "tags": []
          },
          "execution_count": 6
        }
      ]
    },
    {
      "cell_type": "code",
      "metadata": {
        "id": "UgC_mjAZ1Kw7",
        "colab": {
          "base_uri": "https://localhost:8080/"
        },
        "outputId": "0219d7c9-ac1e-4fa0-db35-f9713b959ef6"
      },
      "source": [
        "# Check\n",
        "animal_crackers('Crazy Kangaroo')"
      ],
      "execution_count": null,
      "outputs": [
        {
          "output_type": "execute_result",
          "data": {
            "text/plain": [
              "False"
            ]
          },
          "metadata": {
            "tags": []
          },
          "execution_count": 7
        }
      ]
    },
    {
      "cell_type": "markdown",
      "metadata": {
        "id": "jFv3XSEi1Kw8"
      },
      "source": [
        "### OLD MACDONALD: Write a function that capitalizes the first and fourth letters of a name\n",
        "\n",
        "old_macdonald('macdonald') --> 'MacDonald'"
      ]
    },
    {
      "cell_type": "code",
      "metadata": {
        "id": "tQVhPxVH1Kw8"
      },
      "source": [
        "def old_macdonald(name):\n",
        "    print (name[0].capitalize() + name[1:3]+ name[3].capitalize() + name[4:] )"
      ],
      "execution_count": null,
      "outputs": []
    },
    {
      "cell_type": "code",
      "metadata": {
        "id": "XZts4XM31Kw9",
        "colab": {
          "base_uri": "https://localhost:8080/"
        },
        "outputId": "9ff7d86a-a99c-49f2-908d-ca18bcad8683"
      },
      "source": [
        "# Check\n",
        "old_macdonald('macdonald')"
      ],
      "execution_count": null,
      "outputs": [
        {
          "output_type": "stream",
          "text": [
            "MacDonald\n"
          ],
          "name": "stdout"
        }
      ]
    },
    {
      "cell_type": "markdown",
      "metadata": {
        "id": "vzqP-VgC1Kw9"
      },
      "source": [
        "### MASTER YODA: Given a sentence, return a sentence with words reversed\n",
        "\n",
        "- master_yoda('I am home') --> 'home am I'\n",
        "- master_yoda('We are ready') --> 'ready are We'"
      ]
    },
    {
      "cell_type": "code",
      "metadata": {
        "id": "aUUvAhhA1Kw-"
      },
      "source": [
        "def master_yoda(text):\n",
        "\n",
        "    s=' '\n",
        "    lst=text.split()\n",
        "    l=[i for i in reversed(lst)] \n",
        "    \n",
        "    print(s.join(l))\n",
        "    "
      ],
      "execution_count": null,
      "outputs": []
    },
    {
      "cell_type": "code",
      "metadata": {
        "id": "As_yMMtS1Kw-",
        "colab": {
          "base_uri": "https://localhost:8080/"
        },
        "outputId": "093df428-09b3-4e0a-fd21-85629b052795"
      },
      "source": [
        "# Check\n",
        "master_yoda('I am home')"
      ],
      "execution_count": null,
      "outputs": [
        {
          "output_type": "stream",
          "text": [
            "home am I\n"
          ],
          "name": "stdout"
        }
      ]
    },
    {
      "cell_type": "code",
      "metadata": {
        "id": "sL5PiySo1Kw-",
        "colab": {
          "base_uri": "https://localhost:8080/"
        },
        "outputId": "9c734e96-227a-41ed-8b86-53e855f1b7eb"
      },
      "source": [
        "# Check\n",
        "master_yoda('We are ready') "
      ],
      "execution_count": null,
      "outputs": [
        {
          "output_type": "stream",
          "text": [
            "ready are We\n"
          ],
          "name": "stdout"
        }
      ]
    },
    {
      "cell_type": "markdown",
      "metadata": {
        "id": "Ij7hEvnm1Kw-"
      },
      "source": [
        "### ALMOST THERE: Given an integer n, return True if n is within 10 of either 100 or 200\n",
        "\n",
        "- almost_there(90) --> True\n",
        "- almost_there(104) --> True\n",
        "- almost_there(150) --> False\n",
        "- almost_there(209) --> True"
      ]
    },
    {
      "cell_type": "code",
      "metadata": {
        "id": "j9NVl4ZA1Kw_"
      },
      "source": [
        "def almost_there(n):\n",
        "    print(True) if n in range(90,111) or n in range(190,211) else print(False)"
      ],
      "execution_count": null,
      "outputs": []
    },
    {
      "cell_type": "code",
      "metadata": {
        "id": "gC4Yn2eb1Kw_",
        "colab": {
          "base_uri": "https://localhost:8080/"
        },
        "outputId": "77169091-d996-4c96-85d8-2ea952a3aba5"
      },
      "source": [
        "# Check\n",
        "almost_there(90)"
      ],
      "execution_count": null,
      "outputs": [
        {
          "output_type": "stream",
          "text": [
            "True\n"
          ],
          "name": "stdout"
        }
      ]
    },
    {
      "cell_type": "code",
      "metadata": {
        "id": "gQXP1cs01Kw_",
        "colab": {
          "base_uri": "https://localhost:8080/"
        },
        "outputId": "583dfbe0-b5c9-4141-e172-262eb3598ac4"
      },
      "source": [
        "# Check\n",
        "almost_there(104)"
      ],
      "execution_count": null,
      "outputs": [
        {
          "output_type": "stream",
          "text": [
            "True\n"
          ],
          "name": "stdout"
        }
      ]
    },
    {
      "cell_type": "code",
      "metadata": {
        "id": "xt1DK_h81Kw_",
        "colab": {
          "base_uri": "https://localhost:8080/"
        },
        "outputId": "44c2d01e-04f4-49a9-c303-88578be483ca"
      },
      "source": [
        "# Check\n",
        "almost_there(150)"
      ],
      "execution_count": null,
      "outputs": [
        {
          "output_type": "stream",
          "text": [
            "False\n"
          ],
          "name": "stdout"
        }
      ]
    },
    {
      "cell_type": "code",
      "metadata": {
        "id": "mUqrYa8C1KxA",
        "colab": {
          "base_uri": "https://localhost:8080/"
        },
        "outputId": "c34a73e3-2ddc-4dd8-b2fd-704005fff8dd"
      },
      "source": [
        "# Check\n",
        "almost_there(209)"
      ],
      "execution_count": null,
      "outputs": [
        {
          "output_type": "stream",
          "text": [
            "True\n"
          ],
          "name": "stdout"
        }
      ]
    },
    {
      "cell_type": "markdown",
      "metadata": {
        "id": "xDucV1br1KxA"
      },
      "source": [
        "### LAUGHTER: Write a function that counts the number of times a given patterns appears in a string, inclusing overlap\n",
        "\n",
        "laughter('hah','hahahah') --> 3\n"
      ]
    },
    {
      "cell_type": "code",
      "metadata": {
        "id": "s03u9zH31KxA"
      },
      "source": [
        "def laughter(pattern,text):\n",
        "    l1=len(pattern)\n",
        "    l2=len(text)\n",
        "    c=0\n",
        "\n",
        "    for i in range(0,l2):\n",
        "      if pattern in text[i:l1+i]:\n",
        "        c=c+1\n",
        "    print (c)\n"
      ],
      "execution_count": null,
      "outputs": []
    },
    {
      "cell_type": "code",
      "metadata": {
        "id": "mKUNE9Vg1KxA",
        "colab": {
          "base_uri": "https://localhost:8080/"
        },
        "outputId": "82c5192c-8bb3-4526-b524-133007c26cd7"
      },
      "source": [
        "# Check\n",
        "laughter('hah','hahahah')"
      ],
      "execution_count": null,
      "outputs": [
        {
          "output_type": "stream",
          "text": [
            "3\n"
          ],
          "name": "stdout"
        }
      ]
    },
    {
      "cell_type": "markdown",
      "metadata": {
        "id": "ROgVzQq41KxB"
      },
      "source": [
        "### PAPER DOLL: Given a string, return a string where for every character in the original there are three characters\n",
        "\n",
        "- paper_doll('Hello') --> 'HHHeeellllllooo'\n",
        "- paper_doll('Mississippi') --> 'MMMiiissssssiiissssssiiippppppiii'"
      ]
    },
    {
      "cell_type": "code",
      "metadata": {
        "id": "95MnZ5yq1KxB"
      },
      "source": [
        "def paper_doll(text):\n",
        "    x=''\n",
        "    \n",
        "    for i in text:\n",
        "      x=x+i+i+i\n",
        "    print(x)"
      ],
      "execution_count": null,
      "outputs": []
    },
    {
      "cell_type": "code",
      "metadata": {
        "id": "HM4Ec8ip1KxB",
        "colab": {
          "base_uri": "https://localhost:8080/"
        },
        "outputId": "e614a266-873c-4c71-b3d0-e390d550121c"
      },
      "source": [
        "# Check\n",
        "paper_doll('Hello')"
      ],
      "execution_count": null,
      "outputs": [
        {
          "output_type": "stream",
          "text": [
            "HHHeeellllllooo\n"
          ],
          "name": "stdout"
        }
      ]
    },
    {
      "cell_type": "code",
      "metadata": {
        "id": "-X6Rvl_w1KxB",
        "colab": {
          "base_uri": "https://localhost:8080/"
        },
        "outputId": "3cf4afeb-6df0-449b-f221-126fba939716"
      },
      "source": [
        "# Check\n",
        "paper_doll('Mississippi')"
      ],
      "execution_count": null,
      "outputs": [
        {
          "output_type": "stream",
          "text": [
            "MMMiiissssssiiissssssiiippppppiii\n"
          ],
          "name": "stdout"
        }
      ]
    },
    {
      "cell_type": "markdown",
      "metadata": {
        "id": "mVToMD7Y1KxB"
      },
      "source": [
        "### BLACKJACK: Given three integers between 1 and 11, if their sum is less than or equal to 21, return their sum. If their sum exceeds 21 and there's an eleven, reduce the total sum by 10. Finally, of the sum (even after adjustment) exceeds 21, return 'BUST'\n",
        "\n",
        "- blackjack(5,6,7) --> 18\n",
        "- blackjack(9,9,9) --> 'BUST'\n",
        "- blackjack(9,9,11) --> 19"
      ]
    },
    {
      "cell_type": "code",
      "metadata": {
        "id": "jNt3qC1i1KxC"
      },
      "source": [
        "def blackjack(a,b,c):\n",
        "    s= a+b+c\n",
        "    print(s) if s<=21 else print(s-10) if a==11 or b==11 or c==11 else print('BUST')"
      ],
      "execution_count": null,
      "outputs": []
    },
    {
      "cell_type": "code",
      "metadata": {
        "id": "w14TGaUq1KxC",
        "colab": {
          "base_uri": "https://localhost:8080/"
        },
        "outputId": "33644e1e-a3bd-4f45-ae3b-8865184b713b"
      },
      "source": [
        "# Check\n",
        "blackjack(5,6,7)"
      ],
      "execution_count": null,
      "outputs": [
        {
          "output_type": "stream",
          "text": [
            "18\n"
          ],
          "name": "stdout"
        }
      ]
    },
    {
      "cell_type": "code",
      "metadata": {
        "id": "G_TbAmHg1KxC",
        "colab": {
          "base_uri": "https://localhost:8080/"
        },
        "outputId": "0d2bf8c9-92fa-4814-b2c7-cc236831d2bd"
      },
      "source": [
        "# Check\n",
        "blackjack(9,9,9)"
      ],
      "execution_count": null,
      "outputs": [
        {
          "output_type": "stream",
          "text": [
            "BUST\n"
          ],
          "name": "stdout"
        }
      ]
    },
    {
      "cell_type": "code",
      "metadata": {
        "id": "_6gigOLK1KxC",
        "colab": {
          "base_uri": "https://localhost:8080/"
        },
        "outputId": "fe4da013-9b79-4df6-c26c-e07f2dc05043"
      },
      "source": [
        "# Check\n",
        "blackjack(9,9,11)"
      ],
      "execution_count": null,
      "outputs": [
        {
          "output_type": "stream",
          "text": [
            "19\n"
          ],
          "name": "stdout"
        }
      ]
    },
    {
      "cell_type": "markdown",
      "metadata": {
        "id": "aXksiR081KxC"
      },
      "source": [
        "### SUMMER OF 69: Return the sum of the numbers in the array, except ignore sections of the numbers starting with a 6 and extending to the next 9(every 6 will be followed by at least one 9). Return 0 for no numbers.\n",
        "\n",
        "- summer_69([1, 3, 5]) --> 9\n",
        "- summer_69([4,5,6,7,8,9]) --> 9\n",
        "- summer_69([2,1,6,9,11]) --> 14"
      ]
    },
    {
      "cell_type": "code",
      "metadata": {
        "id": "a3sgBB7j1KxD"
      },
      "source": [
        "def summer_69(arr):\n",
        "    s=0\n",
        "    lst=arr[:]\n",
        "    for i in range(len(arr)):\n",
        "      if(arr[i]==6):\n",
        "        i6 = lst.index(6)\n",
        "        i9 = lst.index(9)\n",
        "        del lst[i6:i9+1] \n",
        "    for i in range(len(lst)):  \n",
        "      s=s+lst[i]\n",
        "    print(s)"
      ],
      "execution_count": null,
      "outputs": []
    },
    {
      "cell_type": "code",
      "metadata": {
        "id": "9VAq3Pwt1KxD",
        "colab": {
          "base_uri": "https://localhost:8080/"
        },
        "outputId": "29d02f98-6503-47f5-fea5-3ee64b7c2589"
      },
      "source": [
        "# Check\n",
        "summer_69([1, 3, 5])"
      ],
      "execution_count": null,
      "outputs": [
        {
          "output_type": "stream",
          "text": [
            "9\n"
          ],
          "name": "stdout"
        }
      ]
    },
    {
      "cell_type": "code",
      "metadata": {
        "id": "0lzqoEvu1KxD",
        "colab": {
          "base_uri": "https://localhost:8080/"
        },
        "outputId": "e52d70b5-62ae-4f3c-d7e9-81b0516ae547"
      },
      "source": [
        "# Check\n",
        "summer_69([4,5,6,7,8,9])"
      ],
      "execution_count": null,
      "outputs": [
        {
          "output_type": "stream",
          "text": [
            "9\n"
          ],
          "name": "stdout"
        }
      ]
    },
    {
      "cell_type": "code",
      "metadata": {
        "id": "slzfQVm71KxD",
        "colab": {
          "base_uri": "https://localhost:8080/"
        },
        "outputId": "89317d39-0847-4d2c-8a9b-a23ee2536e5b"
      },
      "source": [
        "# Check\n",
        "summer_69([2,1,6,9,11])"
      ],
      "execution_count": null,
      "outputs": [
        {
          "output_type": "stream",
          "text": [
            "14\n"
          ],
          "name": "stdout"
        }
      ]
    },
    {
      "cell_type": "markdown",
      "metadata": {
        "id": "Q0FuKAQY1KxD"
      },
      "source": [
        "## Challenge Problems"
      ]
    },
    {
      "cell_type": "markdown",
      "metadata": {
        "id": "o9yfcp8X1KxE"
      },
      "source": [
        "### SPY GAME: Write a function that takes in a list of integers and returns True if it contains 007 in order\n",
        "\n",
        "- spy_game([1,2,4,0,0,7,5]) --> True\n",
        "- spy_game([1,0,2,4,0,5,7]) --> True\n",
        "- spy_game([1,7,2,0,4,5,0]) --> False"
      ]
    },
    {
      "cell_type": "code",
      "metadata": {
        "id": "hTlhRVrc1KxE"
      },
      "source": [
        "def spy_game(nums):\n",
        "    c=0\n",
        "    for i in range(len(nums)):\n",
        "      if nums[i]==0 and c==0:\n",
        "        c=1\n",
        "      if nums[i]==0 and c==1:\n",
        "        c=2\n",
        "      if nums[i]==7 and c==2:\n",
        "        c=3\n",
        "    \n",
        "    if c==3:\n",
        "      return True\n",
        "    else:\n",
        "      return False\n",
        "\n",
        "        \n",
        "\n"
      ],
      "execution_count": null,
      "outputs": []
    },
    {
      "cell_type": "code",
      "metadata": {
        "id": "on1JCMvs1KxE",
        "colab": {
          "base_uri": "https://localhost:8080/"
        },
        "outputId": "b5bfa37e-7904-4bfe-c4a7-e532db64e121"
      },
      "source": [
        "# Check\n",
        "spy_game([1,2,4,0,0,7,5])"
      ],
      "execution_count": null,
      "outputs": [
        {
          "output_type": "execute_result",
          "data": {
            "text/plain": [
              "True"
            ]
          },
          "metadata": {
            "tags": []
          },
          "execution_count": 69
        }
      ]
    },
    {
      "cell_type": "code",
      "metadata": {
        "id": "MQ-FrmRY1KxE",
        "colab": {
          "base_uri": "https://localhost:8080/"
        },
        "outputId": "4917bb48-4d90-4583-c598-dfa6e86a9406"
      },
      "source": [
        "# Check\n",
        "spy_game([1,0,2,4,0,5,7])"
      ],
      "execution_count": null,
      "outputs": [
        {
          "output_type": "execute_result",
          "data": {
            "text/plain": [
              "True"
            ]
          },
          "metadata": {
            "tags": []
          },
          "execution_count": 70
        }
      ]
    },
    {
      "cell_type": "code",
      "metadata": {
        "id": "H3e4fhHE1KxE",
        "colab": {
          "base_uri": "https://localhost:8080/"
        },
        "outputId": "d74b7815-0214-4028-efea-08bd31eef72e"
      },
      "source": [
        "# Check\n",
        "spy_game([1,7,2,0,4,5,0])"
      ],
      "execution_count": null,
      "outputs": [
        {
          "output_type": "execute_result",
          "data": {
            "text/plain": [
              "False"
            ]
          },
          "metadata": {
            "tags": []
          },
          "execution_count": 71
        }
      ]
    },
    {
      "cell_type": "markdown",
      "metadata": {
        "id": "CBBGIkmC1KxE"
      },
      "source": [
        "### COUNT PRIMES: Write a function that returns the number of prime numbers that exists up to and including a given number\n",
        "\n",
        "count_primes(100) --> 25\n",
        "\n",
        "- By convention, 0 and 1 are not prime"
      ]
    },
    {
      "cell_type": "code",
      "metadata": {
        "id": "adsoD6kk1KxF"
      },
      "source": [
        "def count_primes(num):\n",
        "      count = 0\n",
        "      primes = [False for i in range(num+1)]\n",
        "      for i in range(2,num):\n",
        "         if primes[i] == False:\n",
        "            count+=1\n",
        "            j = 2\n",
        "            while j*i<num:\n",
        "               primes[j*i] = True\n",
        "               j+=1\n",
        "      return count\n"
      ],
      "execution_count": null,
      "outputs": []
    },
    {
      "cell_type": "code",
      "metadata": {
        "id": "sIRuRtAM1KxF",
        "colab": {
          "base_uri": "https://localhost:8080/"
        },
        "outputId": "7673e624-19bc-4b3b-a216-e684218c3ccc"
      },
      "source": [
        "# Check\n",
        "count_primes(100)"
      ],
      "execution_count": null,
      "outputs": [
        {
          "output_type": "execute_result",
          "data": {
            "text/plain": [
              "25"
            ]
          },
          "metadata": {
            "tags": []
          },
          "execution_count": 79
        }
      ]
    },
    {
      "cell_type": "markdown",
      "metadata": {
        "id": "CM1FUU_x1KxF"
      },
      "source": [
        "## GOOD JOB!!"
      ]
    },
    {
      "cell_type": "code",
      "metadata": {
        "id": "Boc2heWe1KxF"
      },
      "source": [
        ""
      ],
      "execution_count": null,
      "outputs": []
    }
  ]
}