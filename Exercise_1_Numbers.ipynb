{
  "nbformat": 4,
  "nbformat_minor": 0,
  "metadata": {
    "kernelspec": {
      "display_name": "Python 3",
      "language": "python",
      "name": "python3"
    },
    "language_info": {
      "codemirror_mode": {
        "name": "ipython",
        "version": 3
      },
      "file_extension": ".py",
      "mimetype": "text/x-python",
      "name": "python",
      "nbconvert_exporter": "python",
      "pygments_lexer": "ipython3",
      "version": "3.7.4"
    },
    "colab": {
      "name": "Exercise 1.  Numbers.ipynb",
      "provenance": []
    }
  },
  "cells": [
    {
      "cell_type": "markdown",
      "metadata": {
        "id": "aLXq9i_IoKdU"
      },
      "source": [
        "### NUMBERS"
      ]
    },
    {
      "cell_type": "markdown",
      "metadata": {
        "id": "antO8YBloKdd"
      },
      "source": [
        "### Write an equation using multiplication, division , an exponent, addition and substraction that is equal to 125.26"
      ]
    },
    {
      "cell_type": "code",
      "metadata": {
        "id": "WflJI5sXoKdg",
        "colab": {
          "base_uri": "https://localhost:8080/"
        },
        "outputId": "1baaa871-6039-45ac-cf15-dcf8dccb34f7"
      },
      "source": [
        "a=5*(5**2)+(1/(4-.16))\n",
        "print('%.2f'%a)"
      ],
      "execution_count": null,
      "outputs": [
        {
          "output_type": "stream",
          "text": [
            "125.26\n"
          ],
          "name": "stdout"
        }
      ]
    },
    {
      "cell_type": "markdown",
      "metadata": {
        "id": "XUTzs6aOoKdi"
      },
      "source": [
        "### Answer these three questions without typing code. then type code to check your answer \n",
        "\n",
        "- What is the value of expression 4 * (6 + 5)\n",
        "- What is the value of expression 4 * 6 + 5\n",
        "- What is the value of expression 4 + 6 * 5"
      ]
    },
    {
      "cell_type": "code",
      "metadata": {
        "id": "Xu10LjrboKdk",
        "colab": {
          "base_uri": "https://localhost:8080/"
        },
        "outputId": "eb8004af-7ce2-4701-b811-d74cdd97a013"
      },
      "source": [
        "myans1=44\n",
        "print(4*(6+5))  #for checking ans"
      ],
      "execution_count": null,
      "outputs": [
        {
          "output_type": "stream",
          "text": [
            "44\n"
          ],
          "name": "stdout"
        }
      ]
    },
    {
      "cell_type": "code",
      "metadata": {
        "id": "_VClidU1oKdl",
        "colab": {
          "base_uri": "https://localhost:8080/"
        },
        "outputId": "ec2aeb25-4bd5-4839-b083-dc91a9ab03bf"
      },
      "source": [
        "myans2=29\n",
        "print(4*6+5)  #for checking ans"
      ],
      "execution_count": null,
      "outputs": [
        {
          "output_type": "stream",
          "text": [
            "29\n"
          ],
          "name": "stdout"
        }
      ]
    },
    {
      "cell_type": "code",
      "metadata": {
        "id": "Ld2CNlx9oKdn",
        "colab": {
          "base_uri": "https://localhost:8080/"
        },
        "outputId": "9900bcf0-243d-4de3-c014-3313f6c410c8"
      },
      "source": [
        "myans3=34\n",
        "print(4+6*5)  #for checking ans"
      ],
      "execution_count": null,
      "outputs": [
        {
          "output_type": "stream",
          "text": [
            "34\n"
          ],
          "name": "stdout"
        }
      ]
    },
    {
      "cell_type": "markdown",
      "metadata": {
        "id": "qwV4Y_kroKdp"
      },
      "source": [
        "### What is the type of the result of the expression 3 + 1.5 + 4?"
      ]
    },
    {
      "cell_type": "code",
      "metadata": {
        "id": "sae51AFNoKdr",
        "colab": {
          "base_uri": "https://localhost:8080/"
        },
        "outputId": "1d33cb29-d37f-4312-e2f3-bc015f040c9e"
      },
      "source": [
        "float"
      ],
      "execution_count": null,
      "outputs": [
        {
          "output_type": "execute_result",
          "data": {
            "text/plain": [
              "float"
            ]
          },
          "metadata": {
            "tags": []
          },
          "execution_count": 19
        }
      ]
    },
    {
      "cell_type": "markdown",
      "metadata": {
        "id": "LESDY_MaoKds"
      },
      "source": [
        "### What would you use to find the nnumber's square root, as well as square?"
      ]
    },
    {
      "cell_type": "code",
      "metadata": {
        "id": "WjkVpn64oKdu"
      },
      "source": [
        "# Square root: we will use exponent operator( ** ) as n**(.5)"
      ],
      "execution_count": null,
      "outputs": []
    },
    {
      "cell_type": "code",
      "metadata": {
        "id": "IlwRvHCgoKdv"
      },
      "source": [
        "# Square:  we will use exponent operator( ** ) as n**(2)"
      ],
      "execution_count": null,
      "outputs": []
    },
    {
      "cell_type": "markdown",
      "metadata": {
        "id": "Bgwe6wvooKdw"
      },
      "source": [
        "# STRINGS"
      ]
    },
    {
      "cell_type": "markdown",
      "metadata": {
        "id": "M3e4fUr3oKdx"
      },
      "source": [
        "### Given the string 'hello' give an index command that returns 'e'. Enter your code in the cell below."
      ]
    },
    {
      "cell_type": "code",
      "metadata": {
        "id": "IiK-n_ksoKdz",
        "colab": {
          "base_uri": "https://localhost:8080/"
        },
        "outputId": "4888d364-c29e-409b-e6bc-ed733181f577"
      },
      "source": [
        "s = 'hello'\n",
        "print(s[1])# Print out 'e' using indexing"
      ],
      "execution_count": null,
      "outputs": [
        {
          "output_type": "stream",
          "text": [
            "e\n"
          ],
          "name": "stdout"
        }
      ]
    },
    {
      "cell_type": "markdown",
      "metadata": {
        "id": "Lp40audeoKd0"
      },
      "source": [
        "### Reverse the string 'hello' using slicing"
      ]
    },
    {
      "cell_type": "code",
      "metadata": {
        "id": "KwN4GwF5oKd1",
        "colab": {
          "base_uri": "https://localhost:8080/"
        },
        "outputId": "f8b8c481-1329-4996-aae3-20e34bf7d998"
      },
      "source": [
        "s = 'hello'\n",
        "print(s[::-1])\n",
        "# Reverse the string using slicing"
      ],
      "execution_count": null,
      "outputs": [
        {
          "output_type": "stream",
          "text": [
            "olleh\n"
          ],
          "name": "stdout"
        }
      ]
    },
    {
      "cell_type": "markdown",
      "metadata": {
        "id": "ep3xE-DmoKd2"
      },
      "source": [
        "### Given the string hello, give two methods of producing the letter 'o' using indexing."
      ]
    },
    {
      "cell_type": "code",
      "metadata": {
        "id": "eWpT5bIXoKd2",
        "colab": {
          "base_uri": "https://localhost:8080/"
        },
        "outputId": "394e8c89-403b-4a02-eb62-624b891eb5dc"
      },
      "source": [
        "s = 'hello'\n",
        "# Print out the 'o'\n",
        "\n",
        "# Method 1:\n",
        "print(s[4])"
      ],
      "execution_count": null,
      "outputs": [
        {
          "output_type": "stream",
          "text": [
            "o\n"
          ],
          "name": "stdout"
        }
      ]
    },
    {
      "cell_type": "code",
      "metadata": {
        "id": "jigyz10ToKd4",
        "colab": {
          "base_uri": "https://localhost:8080/"
        },
        "outputId": "d982572e-9f8a-4b28-9703-7dd468bbb225"
      },
      "source": [
        "# Method 2:\n",
        "print(s[-1])"
      ],
      "execution_count": null,
      "outputs": [
        {
          "output_type": "stream",
          "text": [
            "o\n"
          ],
          "name": "stdout"
        }
      ]
    },
    {
      "cell_type": "markdown",
      "metadata": {
        "id": "wFYgAboLoKd4"
      },
      "source": [
        "# LISTS"
      ]
    },
    {
      "cell_type": "markdown",
      "metadata": {
        "id": "DTdKKhbYoKd5"
      },
      "source": [
        "### Build this list [0,0,0] in two separate ways"
      ]
    },
    {
      "cell_type": "code",
      "metadata": {
        "id": "pfk49AIpoKd6",
        "colab": {
          "base_uri": "https://localhost:8080/"
        },
        "outputId": "47e2aa2a-9759-42e8-fa07-dfeef8cafb8f"
      },
      "source": [
        "# Method 1:\n",
        "list1=[0,0,0]\n",
        "print(list1)"
      ],
      "execution_count": null,
      "outputs": [
        {
          "output_type": "stream",
          "text": [
            "[0, 0, 0]\n"
          ],
          "name": "stdout"
        }
      ]
    },
    {
      "cell_type": "code",
      "metadata": {
        "id": "kgyv69qyoKd7",
        "colab": {
          "base_uri": "https://localhost:8080/"
        },
        "outputId": "e3df30a4-9beb-41a8-84cf-01973a6366b4"
      },
      "source": [
        "# Method 2:\n",
        "l1=[0,0]\n",
        "l2=[0]\n",
        "l3=l1+l2\n",
        "print(l3)"
      ],
      "execution_count": null,
      "outputs": [
        {
          "output_type": "stream",
          "text": [
            "[0, 0, 0]\n"
          ],
          "name": "stdout"
        }
      ]
    },
    {
      "cell_type": "markdown",
      "metadata": {
        "id": "WA2e7a-8oKd8"
      },
      "source": [
        "### Reassign 'hello' in this nested list to say 'goodbye' instead"
      ]
    },
    {
      "cell_type": "code",
      "metadata": {
        "id": "F3hg3rsXoKd8",
        "colab": {
          "base_uri": "https://localhost:8080/"
        },
        "outputId": "7a2a0be0-f231-482e-f93f-4b4ed40386e3"
      },
      "source": [
        "list1 = [1,2,[3,4,'hello']]\n",
        "list1[2][2]=\"goodbye\"\n",
        "print(list1)"
      ],
      "execution_count": null,
      "outputs": [
        {
          "output_type": "stream",
          "text": [
            "[1, 2, [3, 4, 'goodbye']]\n"
          ],
          "name": "stdout"
        }
      ]
    },
    {
      "cell_type": "markdown",
      "metadata": {
        "id": "9oTY14SZoKd9"
      },
      "source": [
        "### Sort the list bellow:"
      ]
    },
    {
      "cell_type": "code",
      "metadata": {
        "id": "x7etZwOboKd9",
        "colab": {
          "base_uri": "https://localhost:8080/"
        },
        "outputId": "dde734ed-0a8e-431d-f4af-db18a61ef6e3"
      },
      "source": [
        "list2 = [5,3,4,6,1]\n",
        "list2.sort()\n",
        "print(list2)"
      ],
      "execution_count": null,
      "outputs": [
        {
          "output_type": "stream",
          "text": [
            "[1, 3, 4, 5, 6]\n"
          ],
          "name": "stdout"
        }
      ]
    },
    {
      "cell_type": "markdown",
      "metadata": {
        "id": "HZU7l53soKd-"
      },
      "source": [
        "# DICTIONARIES"
      ]
    },
    {
      "cell_type": "markdown",
      "metadata": {
        "id": "Jv-cNl9doKd_"
      },
      "source": [
        "### Using keys and indexing, grab the 'hello' from the following dictionaries:"
      ]
    },
    {
      "cell_type": "code",
      "metadata": {
        "id": "R9dSFeqjoKd_",
        "colab": {
          "base_uri": "https://localhost:8080/"
        },
        "outputId": "30e93d0e-7fa8-4692-c27f-9cff747bb7dc"
      },
      "source": [
        "d = {'simple_key':'hello'}\n",
        "print(d['simple_key'])\n",
        "# Grab 'hello'"
      ],
      "execution_count": null,
      "outputs": [
        {
          "output_type": "stream",
          "text": [
            "hello\n"
          ],
          "name": "stdout"
        }
      ]
    },
    {
      "cell_type": "code",
      "metadata": {
        "id": "hOYqsgrXoKd_",
        "colab": {
          "base_uri": "https://localhost:8080/"
        },
        "outputId": "cdb66bf7-5208-4ae0-fffb-c4b4c67066a6"
      },
      "source": [
        "d = {'k1':{'k2':'hello'}}\n",
        "print(d['k1']['k2'])\n",
        "# Grab 'hello'"
      ],
      "execution_count": null,
      "outputs": [
        {
          "output_type": "stream",
          "text": [
            "hello\n"
          ],
          "name": "stdout"
        }
      ]
    },
    {
      "cell_type": "code",
      "metadata": {
        "id": "mpJc780JoKeA",
        "colab": {
          "base_uri": "https://localhost:8080/"
        },
        "outputId": "473731f3-bb23-495c-e01e-d35ca93a2713"
      },
      "source": [
        "d = {'k1':[{'nest_key':['this is deep',['hello']]}]}\n",
        "print(d['k1'][0]['nest_key'][1][0])\n",
        "\n",
        "# Grab 'hello'"
      ],
      "execution_count": null,
      "outputs": [
        {
          "output_type": "stream",
          "text": [
            "hello\n"
          ],
          "name": "stdout"
        }
      ]
    },
    {
      "cell_type": "code",
      "metadata": {
        "id": "Jr3PrxOsoKeB",
        "outputId": "90f522f1-a29d-4e8b-9244-278ce810fe50"
      },
      "source": [
        "d = {'k1':[1,2,{'k2':['this is tricky',{'tough':[1,2,['hello']]}]}]}\n",
        "# Grab 'hello'\n",
        "d['k1'][2]['k2'][1]['tough'][2][0]"
      ],
      "execution_count": null,
      "outputs": [
        {
          "output_type": "execute_result",
          "data": {
            "text/plain": [
              "'hello'"
            ]
          },
          "metadata": {
            "tags": []
          },
          "execution_count": 1
        }
      ]
    },
    {
      "cell_type": "markdown",
      "metadata": {
        "id": "A-QER_J7oKeE"
      },
      "source": [
        "### Can you sort a dictionary? Why or why not?"
      ]
    },
    {
      "cell_type": "code",
      "metadata": {
        "id": "VMxlyVp-oKeE"
      },
      "source": [
        "In older versions of python below 3.6 version ,It is not possible to sort a dictionary, only to get a representation of a dictionary that is sorted. Dictionaries are inherently orderless, but other types, such as lists and tuples, are not. So you need an ordered data type to represent sorted values, which will be a list—probably a list of tuples."
      ],
      "execution_count": null,
      "outputs": []
    },
    {
      "cell_type": "markdown",
      "metadata": {
        "id": "SwyU8F97oKeF"
      },
      "source": [
        "# TUPLES"
      ]
    },
    {
      "cell_type": "markdown",
      "metadata": {
        "id": "3XVOgnZooKeF"
      },
      "source": [
        "### What is the major difference between tuples and lists?"
      ]
    },
    {
      "cell_type": "code",
      "metadata": {
        "id": "WblL4mJ_oKeG"
      },
      "source": [
        "The the major difference between tuples and lists is that tuples are immutable that means it cannot be modified whereas list are mutable."
      ],
      "execution_count": null,
      "outputs": []
    },
    {
      "cell_type": "markdown",
      "metadata": {
        "id": "SJZ_Uc5RoKeG"
      },
      "source": [
        "### How do you create a tuple?"
      ]
    },
    {
      "cell_type": "code",
      "metadata": {
        "id": "5ESWfecroKeH"
      },
      "source": [
        "We can create a tuple by defining the items within parentheses () where items are separated by commas.\n",
        "for example- t=(1,3,5,2)"
      ],
      "execution_count": null,
      "outputs": []
    },
    {
      "cell_type": "markdown",
      "metadata": {
        "id": "GwQqFMIzoKeI"
      },
      "source": [
        "# SETS"
      ]
    },
    {
      "cell_type": "markdown",
      "metadata": {
        "id": "4puW53jNoKeI"
      },
      "source": [
        "### Use a set to find the unique values of the list bellow:"
      ]
    },
    {
      "cell_type": "code",
      "metadata": {
        "id": "_AHBrvJjoKeI",
        "colab": {
          "base_uri": "https://localhost:8080/"
        },
        "outputId": "a50d1c87-7e9c-4638-c0c9-bd3695932a4f"
      },
      "source": [
        "list3 = [1,2,2,33,4,4,11,22,3,3,2]\n",
        "set(list3)   #it will print all the unique values in present in given list3 i.e- {1,2,3,4,11,22,33}"
      ],
      "execution_count": null,
      "outputs": [
        {
          "output_type": "execute_result",
          "data": {
            "text/plain": [
              "{1, 2, 3, 4, 11, 22, 33}"
            ]
          },
          "metadata": {
            "tags": []
          },
          "execution_count": 1
        }
      ]
    },
    {
      "cell_type": "markdown",
      "metadata": {
        "id": "tnj3kMJ3oKeJ"
      },
      "source": [
        "# BOOLEANS"
      ]
    },
    {
      "cell_type": "markdown",
      "metadata": {
        "id": "QQ5XA6WhoKeJ"
      },
      "source": [
        "### What will be the resulting Boolean of the following pieces of code (answer first them check by typing it in!)"
      ]
    },
    {
      "cell_type": "code",
      "metadata": {
        "id": "YJzR86GVoKeK",
        "colab": {
          "base_uri": "https://localhost:8080/"
        },
        "outputId": "b1471617-3234-436d-a445-9241a0333763"
      },
      "source": [
        "2 > 3  #it will result in False\n"
      ],
      "execution_count": null,
      "outputs": [
        {
          "output_type": "execute_result",
          "data": {
            "text/plain": [
              "False"
            ]
          },
          "metadata": {
            "tags": []
          },
          "execution_count": 3
        }
      ]
    },
    {
      "cell_type": "code",
      "metadata": {
        "id": "jufJI9uBoKeK",
        "colab": {
          "base_uri": "https://localhost:8080/"
        },
        "outputId": "9abf35b8-7296-46cd-f4cb-7301b6d9555f"
      },
      "source": [
        "3 <= 2   #it will result in False"
      ],
      "execution_count": null,
      "outputs": [
        {
          "output_type": "execute_result",
          "data": {
            "text/plain": [
              "False"
            ]
          },
          "metadata": {
            "tags": []
          },
          "execution_count": 4
        }
      ]
    },
    {
      "cell_type": "code",
      "metadata": {
        "id": "lEQ3cuGtoKeL",
        "colab": {
          "base_uri": "https://localhost:8080/"
        },
        "outputId": "71a0e60a-2fcc-466b-d74f-087e4534c987"
      },
      "source": [
        "3 == 2.0   #it will result in False"
      ],
      "execution_count": null,
      "outputs": [
        {
          "output_type": "execute_result",
          "data": {
            "text/plain": [
              "False"
            ]
          },
          "metadata": {
            "tags": []
          },
          "execution_count": 5
        }
      ]
    },
    {
      "cell_type": "code",
      "metadata": {
        "id": "MMZSVqA7oKeL",
        "colab": {
          "base_uri": "https://localhost:8080/"
        },
        "outputId": "1f9042b1-5388-4bd4-8166-a2239673a43a"
      },
      "source": [
        "3.0 == 3   #it will result in True"
      ],
      "execution_count": null,
      "outputs": [
        {
          "output_type": "execute_result",
          "data": {
            "text/plain": [
              "True"
            ]
          },
          "metadata": {
            "tags": []
          },
          "execution_count": 6
        }
      ]
    },
    {
      "cell_type": "code",
      "metadata": {
        "id": "pb3CNcoVoKeM",
        "colab": {
          "base_uri": "https://localhost:8080/"
        },
        "outputId": "3c93890d-9fe0-46e5-a29c-d2857ebbed1a"
      },
      "source": [
        "4**0.5 != 2   #it will result in False"
      ],
      "execution_count": null,
      "outputs": [
        {
          "output_type": "execute_result",
          "data": {
            "text/plain": [
              "False"
            ]
          },
          "metadata": {
            "tags": []
          },
          "execution_count": 7
        }
      ]
    },
    {
      "cell_type": "markdown",
      "metadata": {
        "id": "R0S2xxH5oKeM"
      },
      "source": [
        "### What is the boolean output of the cell block below?"
      ]
    },
    {
      "cell_type": "code",
      "metadata": {
        "id": "Tongf84moKeM",
        "colab": {
          "base_uri": "https://localhost:8080/",
          "height": 128
        },
        "outputId": "2fc9c7ec-e5cd-451d-aa22-f18f6b27ee64"
      },
      "source": [
        "#  two nested lists\n",
        "1_one = [1,2,[3,4]]\n",
        "2_two = [1,2,{'k1':4}]\n",
        "\n",
        "# True or False?\n",
        "1_one[2][0] >= 1_two[2]['k1']\n",
        "\n",
        "#it will result in False as 3 is not greater than or equal to 4     (this will only work when the names of lists got valid as it shouldn't use digit at starting)"
      ],
      "execution_count": null,
      "outputs": [
        {
          "output_type": "error",
          "ename": "SyntaxError",
          "evalue": "ignored",
          "traceback": [
            "\u001b[0;36m  File \u001b[0;32m\"<ipython-input-8-841313e780e2>\"\u001b[0;36m, line \u001b[0;32m2\u001b[0m\n\u001b[0;31m    1_one = [1,2,[3,4]]\u001b[0m\n\u001b[0m     ^\u001b[0m\n\u001b[0;31mSyntaxError\u001b[0m\u001b[0;31m:\u001b[0m invalid token\n"
          ]
        }
      ]
    },
    {
      "cell_type": "markdown",
      "metadata": {
        "id": "fU2dUBcmoKeN"
      },
      "source": [
        "## GOOD JOB!!"
      ]
    }
  ]
}