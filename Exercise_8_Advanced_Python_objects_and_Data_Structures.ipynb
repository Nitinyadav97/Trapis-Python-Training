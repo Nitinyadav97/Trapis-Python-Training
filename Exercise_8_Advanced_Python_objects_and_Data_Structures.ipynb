{
  "nbformat": 4,
  "nbformat_minor": 0,
  "metadata": {
    "kernelspec": {
      "display_name": "Python 3",
      "language": "python",
      "name": "python3"
    },
    "language_info": {
      "codemirror_mode": {
        "name": "ipython",
        "version": 3
      },
      "file_extension": ".py",
      "mimetype": "text/x-python",
      "name": "python",
      "nbconvert_exporter": "python",
      "pygments_lexer": "ipython3",
      "version": "3.7.4"
    },
    "colab": {
      "name": "Exercise 8. Advanced Python objects and Data Structures.ipynb",
      "provenance": [],
      "include_colab_link": true
    }
  },
  "cells": [
    {
      "cell_type": "markdown",
      "metadata": {
        "id": "view-in-github",
        "colab_type": "text"
      },
      "source": [
        "<a href=\"https://colab.research.google.com/github/Nitinyadav97/Trapis-Python-Training-exercises/blob/main/Exercise_8_Advanced_Python_objects_and_Data_Structures.ipynb\" target=\"_parent\"><img src=\"https://colab.research.google.com/assets/colab-badge.svg\" alt=\"Open In Colab\"/></a>"
      ]
    },
    {
      "cell_type": "markdown",
      "metadata": {
        "id": "25-O2XVyMx1C"
      },
      "source": [
        "# Advanced Python Objects and Data Structures"
      ]
    },
    {
      "cell_type": "markdown",
      "metadata": {
        "id": "QhYYaKbPMx1F"
      },
      "source": [
        "## Advanced Numbers\n",
        "#### Convert 1024 to binary and hexadecimal representation"
      ]
    },
    {
      "cell_type": "code",
      "metadata": {
        "id": "hBe1znXFMx1G",
        "colab": {
          "base_uri": "https://localhost:8080/"
        },
        "outputId": "73b5538f-9626-423b-a50e-ba5cadfda61f"
      },
      "source": [
        "print(bin(1024))\n",
        "print(hex(1024))"
      ],
      "execution_count": 1,
      "outputs": [
        {
          "output_type": "stream",
          "text": [
            "0b10000000000\n",
            "0x400\n"
          ],
          "name": "stdout"
        }
      ]
    },
    {
      "cell_type": "code",
      "metadata": {
        "id": "3RaD8bcTMx1H"
      },
      "source": [
        ""
      ],
      "execution_count": null,
      "outputs": []
    },
    {
      "cell_type": "markdown",
      "metadata": {
        "id": "ztm82Y_sMx1H"
      },
      "source": [
        "#### Round 5.23222 to two decimal places"
      ]
    },
    {
      "cell_type": "code",
      "metadata": {
        "id": "LB_AJmI5Mx1H",
        "colab": {
          "base_uri": "https://localhost:8080/"
        },
        "outputId": "64cc8a64-ce58-4c5e-d48b-367fab4e431c"
      },
      "source": [
        "print(round(5.23222,2))"
      ],
      "execution_count": 2,
      "outputs": [
        {
          "output_type": "stream",
          "text": [
            "5.23\n"
          ],
          "name": "stdout"
        }
      ]
    },
    {
      "cell_type": "markdown",
      "metadata": {
        "id": "CgZraPQ4Mx1I"
      },
      "source": [
        "## Advanced Strings"
      ]
    },
    {
      "cell_type": "markdown",
      "metadata": {
        "id": "G0NFt5wRMx1I"
      },
      "source": [
        "#### Check if every letter in the string s is lower case"
      ]
    },
    {
      "cell_type": "code",
      "metadata": {
        "id": "O0EBMrx_Mx1J",
        "colab": {
          "base_uri": "https://localhost:8080/"
        },
        "outputId": "509e3ae0-84ba-4ed9-e4aa-4396b33c57c4"
      },
      "source": [
        "s = 'hello how are you Mary, are you feeling okay?'\n",
        "print(\"Yes\") if s.islower() else print(\"No\")"
      ],
      "execution_count": 3,
      "outputs": [
        {
          "output_type": "stream",
          "text": [
            "No\n"
          ],
          "name": "stdout"
        }
      ]
    },
    {
      "cell_type": "markdown",
      "metadata": {
        "id": "uGqV9Rb4Mx1J"
      },
      "source": [
        "#### How many times does the letter 'w' show up in the string below?"
      ]
    },
    {
      "cell_type": "code",
      "metadata": {
        "id": "C2QJ9TGvMx1K",
        "colab": {
          "base_uri": "https://localhost:8080/"
        },
        "outputId": "f9224a61-1f44-4d94-a119-a5cc7f00101c"
      },
      "source": [
        "s = 'twywywtwywbwhsjhwuwshshwuwwwjdjdid'\n",
        "print(s.count('w'))"
      ],
      "execution_count": 4,
      "outputs": [
        {
          "output_type": "stream",
          "text": [
            "12\n"
          ],
          "name": "stdout"
        }
      ]
    },
    {
      "cell_type": "markdown",
      "metadata": {
        "id": "Ejoo5UMQMx1K"
      },
      "source": [
        "## Advanced Sets"
      ]
    },
    {
      "cell_type": "markdown",
      "metadata": {
        "id": "PJilpYlaMx1K"
      },
      "source": [
        "#### Find the elements in set1 that are not in set2"
      ]
    },
    {
      "cell_type": "code",
      "metadata": {
        "id": "aNdU3aIeMx1L",
        "colab": {
          "base_uri": "https://localhost:8080/"
        },
        "outputId": "bee58d8f-c565-47d0-c9eb-64ca3b988a0b"
      },
      "source": [
        "set1 = {2,3,1,5,6,8}\n",
        "set2 = {3,1,7,5,6,8}\n",
        "\n",
        "print(set1.difference(set2))\n"
      ],
      "execution_count": 7,
      "outputs": [
        {
          "output_type": "stream",
          "text": [
            "{2}\n"
          ],
          "name": "stdout"
        }
      ]
    },
    {
      "cell_type": "markdown",
      "metadata": {
        "id": "NDPstViJMx1L"
      },
      "source": [
        "#### Find all elements that are in either set"
      ]
    },
    {
      "cell_type": "code",
      "metadata": {
        "id": "nvYPWycXMx1M",
        "colab": {
          "base_uri": "https://localhost:8080/"
        },
        "outputId": "b2910570-fc92-4cee-a337-97e85ee1c73e"
      },
      "source": [
        "print(set1.union(set2))"
      ],
      "execution_count": 8,
      "outputs": [
        {
          "output_type": "stream",
          "text": [
            "{1, 2, 3, 5, 6, 7, 8}\n"
          ],
          "name": "stdout"
        }
      ]
    },
    {
      "cell_type": "markdown",
      "metadata": {
        "id": "2_3UovSEMx1M"
      },
      "source": [
        "## Advanced Dictionaries"
      ]
    },
    {
      "cell_type": "markdown",
      "metadata": {
        "id": "aOMLq017Mx1M"
      },
      "source": [
        "#### Create this dictionary: {0: 0, 1: 1, 2: 8, 3: 27, 4: 64} using a dictionary comprehension."
      ]
    },
    {
      "cell_type": "code",
      "metadata": {
        "id": "qOX-zg6bMx1M",
        "colab": {
          "base_uri": "https://localhost:8080/"
        },
        "outputId": "a577edb7-0f58-4f7c-ca61-d00561a0843e"
      },
      "source": [
        "print({i:i**3 for i in range(5)} )"
      ],
      "execution_count": 10,
      "outputs": [
        {
          "output_type": "stream",
          "text": [
            "{0: 0, 1: 1, 2: 8, 3: 27, 4: 64}\n"
          ],
          "name": "stdout"
        }
      ]
    },
    {
      "cell_type": "markdown",
      "metadata": {
        "id": "-HsAxOIHMx1N"
      },
      "source": [
        "## Advanced Lists"
      ]
    },
    {
      "cell_type": "markdown",
      "metadata": {
        "id": "7pOWXG7lMx1N"
      },
      "source": [
        "#### Reverse the list below"
      ]
    },
    {
      "cell_type": "code",
      "metadata": {
        "id": "BBiBewRnMx1N",
        "colab": {
          "base_uri": "https://localhost:8080/"
        },
        "outputId": "2fdbf229-896e-4840-b644-329b55a3a2cc"
      },
      "source": [
        "list1 = [1,2,3,4]\n",
        "(list1.reverse())\n",
        "list1"
      ],
      "execution_count": 14,
      "outputs": [
        {
          "output_type": "execute_result",
          "data": {
            "text/plain": [
              "[4, 3, 2, 1]"
            ]
          },
          "metadata": {
            "tags": []
          },
          "execution_count": 14
        }
      ]
    },
    {
      "cell_type": "markdown",
      "metadata": {
        "id": "tfjjmVolMx1N"
      },
      "source": [
        "#### Sort the list below in reverse order"
      ]
    },
    {
      "cell_type": "code",
      "metadata": {
        "id": "Btjn9-yQMx1O",
        "colab": {
          "base_uri": "https://localhost:8080/"
        },
        "outputId": "06b49afb-14d7-415d-86de-e849615f8bf1"
      },
      "source": [
        "list2 = [3,4,2,5,1]\n",
        "list2.reverse()\n",
        "list2.sort()\n",
        "print(list2)"
      ],
      "execution_count": 15,
      "outputs": [
        {
          "output_type": "stream",
          "text": [
            "[1, 2, 3, 4, 5]\n"
          ],
          "name": "stdout"
        }
      ]
    },
    {
      "cell_type": "markdown",
      "metadata": {
        "id": "DxvyBPuKMx1O"
      },
      "source": [
        "## Great Job!"
      ]
    }
  ]
}