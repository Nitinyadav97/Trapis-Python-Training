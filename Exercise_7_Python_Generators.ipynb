{
  "nbformat": 4,
  "nbformat_minor": 0,
  "metadata": {
    "kernelspec": {
      "display_name": "Python 3",
      "language": "python",
      "name": "python3"
    },
    "language_info": {
      "codemirror_mode": {
        "name": "ipython",
        "version": 3
      },
      "file_extension": ".py",
      "mimetype": "text/x-python",
      "name": "python",
      "nbconvert_exporter": "python",
      "pygments_lexer": "ipython3",
      "version": "3.7.4"
    },
    "colab": {
      "name": "Exercise 7. Python Generators.ipynb",
      "provenance": [],
      "include_colab_link": true
    }
  },
  "cells": [
    {
      "cell_type": "markdown",
      "metadata": {
        "id": "view-in-github",
        "colab_type": "text"
      },
      "source": [
        "<a href=\"https://colab.research.google.com/github/Nitinyadav97/Trapis-Python-Training-exercises/blob/main/Exercise_7_Python_Generators.ipynb\" target=\"_parent\"><img src=\"https://colab.research.google.com/assets/colab-badge.svg\" alt=\"Open In Colab\"/></a>"
      ]
    },
    {
      "cell_type": "markdown",
      "metadata": {
        "id": "J2VUWg9AIWZI"
      },
      "source": [
        "# Generators"
      ]
    },
    {
      "cell_type": "markdown",
      "metadata": {
        "id": "kzTbXbYAIWZK"
      },
      "source": [
        "### Create a generator that generates the squares of numbers up to some number N."
      ]
    },
    {
      "cell_type": "code",
      "metadata": {
        "id": "mei-N4nRIWZL"
      },
      "source": [
        "def gensquares(N):\n",
        "\n",
        "    for i in range (N):\n",
        "      yield(i*i)"
      ],
      "execution_count": 1,
      "outputs": []
    },
    {
      "cell_type": "code",
      "metadata": {
        "id": "cGw75YW8IWZM",
        "colab": {
          "base_uri": "https://localhost:8080/"
        },
        "outputId": "e4363fb1-6b2f-4e63-f7d2-69599d4658ea"
      },
      "source": [
        "for x in gensquares(10):\n",
        "    print(x)"
      ],
      "execution_count": 2,
      "outputs": [
        {
          "output_type": "stream",
          "text": [
            "0\n",
            "1\n",
            "4\n",
            "9\n",
            "16\n",
            "25\n",
            "36\n",
            "49\n",
            "64\n",
            "81\n"
          ],
          "name": "stdout"
        }
      ]
    },
    {
      "cell_type": "markdown",
      "metadata": {
        "id": "RFUvytdaIWZM"
      },
      "source": [
        "### Create a generator that yields \"n\" random numbers between a low and high number (that are inputs).\n",
        "Note: Use the random library."
      ]
    },
    {
      "cell_type": "code",
      "metadata": {
        "id": "QjC2JCcMIWZN",
        "colab": {
          "base_uri": "https://localhost:8080/"
        },
        "outputId": "c8ca812f-31c6-479c-8f09-9127c3148f17"
      },
      "source": [
        "import random\n",
        "\n",
        "random.randint(1,10)"
      ],
      "execution_count": 3,
      "outputs": [
        {
          "output_type": "execute_result",
          "data": {
            "text/plain": [
              "3"
            ]
          },
          "metadata": {
            "tags": []
          },
          "execution_count": 3
        }
      ]
    },
    {
      "cell_type": "code",
      "metadata": {
        "id": "DzvnqTEPIWZO"
      },
      "source": [
        "def rand_num(low,high,n):\n",
        "\n",
        "    for i in range(n):\n",
        "      yield (random.randint(low,high))"
      ],
      "execution_count": 6,
      "outputs": []
    },
    {
      "cell_type": "code",
      "metadata": {
        "id": "Dnnu5P6dIWZP",
        "colab": {
          "base_uri": "https://localhost:8080/"
        },
        "outputId": "3818a222-cb45-4845-81c9-5c6b1777c844"
      },
      "source": [
        "for num in rand_num(1,10,12):\n",
        "    print(num)"
      ],
      "execution_count": 7,
      "outputs": [
        {
          "output_type": "stream",
          "text": [
            "8\n",
            "9\n",
            "1\n",
            "6\n",
            "6\n",
            "10\n",
            "2\n",
            "5\n",
            "9\n",
            "8\n",
            "5\n",
            "2\n"
          ],
          "name": "stdout"
        }
      ]
    },
    {
      "cell_type": "markdown",
      "metadata": {
        "id": "vLrbv3w-IWZP"
      },
      "source": [
        "### Use the iter() function to convert the string below into an iterator:"
      ]
    },
    {
      "cell_type": "code",
      "metadata": {
        "id": "IZ4jKLQ1IWZQ",
        "colab": {
          "base_uri": "https://localhost:8080/",
          "height": 35
        },
        "outputId": "974d177f-de06-412c-9946-0355ad2370f1"
      },
      "source": [
        "s = 'hello'\n",
        "s_iteration=iter(s)\n",
        "\n",
        "next(s_iteration)\n",
        "\n",
        "#code here"
      ],
      "execution_count": 8,
      "outputs": [
        {
          "output_type": "execute_result",
          "data": {
            "application/vnd.google.colaboratory.intrinsic+json": {
              "type": "string"
            },
            "text/plain": [
              "'h'"
            ]
          },
          "metadata": {
            "tags": []
          },
          "execution_count": 8
        }
      ]
    },
    {
      "cell_type": "code",
      "metadata": {
        "id": "jeo3HvwcIWZQ"
      },
      "source": [
        ""
      ],
      "execution_count": null,
      "outputs": []
    }
  ]
}